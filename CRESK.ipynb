{
 "cells": [
  {
   "cell_type": "code",
   "execution_count": 1,
   "id": "4cce800c",
   "metadata": {},
   "outputs": [],
   "source": [
    "import pandas as pd\n",
    "import numpy as np\n",
    "import seaborn as sns\n",
    "import matplotlib.pyplot as plt"
   ]
  },
  {
   "cell_type": "code",
   "execution_count": 2,
   "id": "3253a5a4",
   "metadata": {},
   "outputs": [
    {
     "data": {
      "text/html": [
       "<div>\n",
       "<style scoped>\n",
       "    .dataframe tbody tr th:only-of-type {\n",
       "        vertical-align: middle;\n",
       "    }\n",
       "\n",
       "    .dataframe tbody tr th {\n",
       "        vertical-align: top;\n",
       "    }\n",
       "\n",
       "    .dataframe thead th {\n",
       "        text-align: right;\n",
       "    }\n",
       "</style>\n",
       "<table border=\"1\" class=\"dataframe\">\n",
       "  <thead>\n",
       "    <tr style=\"text-align: right;\">\n",
       "      <th></th>\n",
       "      <th>person_age</th>\n",
       "      <th>person_income</th>\n",
       "      <th>person_home_ownership</th>\n",
       "      <th>person_emp_length</th>\n",
       "      <th>loan_intent</th>\n",
       "      <th>loan_grade</th>\n",
       "      <th>loan_amnt</th>\n",
       "      <th>loan_int_rate</th>\n",
       "      <th>loan_status</th>\n",
       "      <th>loan_percent_income</th>\n",
       "      <th>cb_person_default_on_file</th>\n",
       "      <th>cb_person_cred_hist_length</th>\n",
       "    </tr>\n",
       "  </thead>\n",
       "  <tbody>\n",
       "    <tr>\n",
       "      <th>0</th>\n",
       "      <td>22</td>\n",
       "      <td>59000</td>\n",
       "      <td>RENT</td>\n",
       "      <td>123.0</td>\n",
       "      <td>PERSONAL</td>\n",
       "      <td>D</td>\n",
       "      <td>35000</td>\n",
       "      <td>16.02</td>\n",
       "      <td>1</td>\n",
       "      <td>0.59</td>\n",
       "      <td>Y</td>\n",
       "      <td>3</td>\n",
       "    </tr>\n",
       "    <tr>\n",
       "      <th>1</th>\n",
       "      <td>21</td>\n",
       "      <td>9600</td>\n",
       "      <td>OWN</td>\n",
       "      <td>5.0</td>\n",
       "      <td>EDUCATION</td>\n",
       "      <td>B</td>\n",
       "      <td>1000</td>\n",
       "      <td>11.14</td>\n",
       "      <td>0</td>\n",
       "      <td>0.10</td>\n",
       "      <td>N</td>\n",
       "      <td>2</td>\n",
       "    </tr>\n",
       "    <tr>\n",
       "      <th>2</th>\n",
       "      <td>25</td>\n",
       "      <td>9600</td>\n",
       "      <td>MORTGAGE</td>\n",
       "      <td>1.0</td>\n",
       "      <td>MEDICAL</td>\n",
       "      <td>C</td>\n",
       "      <td>5500</td>\n",
       "      <td>12.87</td>\n",
       "      <td>1</td>\n",
       "      <td>0.57</td>\n",
       "      <td>N</td>\n",
       "      <td>3</td>\n",
       "    </tr>\n",
       "    <tr>\n",
       "      <th>3</th>\n",
       "      <td>23</td>\n",
       "      <td>65500</td>\n",
       "      <td>RENT</td>\n",
       "      <td>4.0</td>\n",
       "      <td>MEDICAL</td>\n",
       "      <td>C</td>\n",
       "      <td>35000</td>\n",
       "      <td>15.23</td>\n",
       "      <td>1</td>\n",
       "      <td>0.53</td>\n",
       "      <td>N</td>\n",
       "      <td>2</td>\n",
       "    </tr>\n",
       "    <tr>\n",
       "      <th>4</th>\n",
       "      <td>24</td>\n",
       "      <td>54400</td>\n",
       "      <td>RENT</td>\n",
       "      <td>8.0</td>\n",
       "      <td>MEDICAL</td>\n",
       "      <td>C</td>\n",
       "      <td>35000</td>\n",
       "      <td>14.27</td>\n",
       "      <td>1</td>\n",
       "      <td>0.55</td>\n",
       "      <td>Y</td>\n",
       "      <td>4</td>\n",
       "    </tr>\n",
       "  </tbody>\n",
       "</table>\n",
       "</div>"
      ],
      "text/plain": [
       "   person_age  person_income person_home_ownership  person_emp_length  \\\n",
       "0          22          59000                  RENT              123.0   \n",
       "1          21           9600                   OWN                5.0   \n",
       "2          25           9600              MORTGAGE                1.0   \n",
       "3          23          65500                  RENT                4.0   \n",
       "4          24          54400                  RENT                8.0   \n",
       "\n",
       "  loan_intent loan_grade  loan_amnt  loan_int_rate  loan_status  \\\n",
       "0    PERSONAL          D      35000          16.02            1   \n",
       "1   EDUCATION          B       1000          11.14            0   \n",
       "2     MEDICAL          C       5500          12.87            1   \n",
       "3     MEDICAL          C      35000          15.23            1   \n",
       "4     MEDICAL          C      35000          14.27            1   \n",
       "\n",
       "   loan_percent_income cb_person_default_on_file  cb_person_cred_hist_length  \n",
       "0                 0.59                         Y                           3  \n",
       "1                 0.10                         N                           2  \n",
       "2                 0.57                         N                           3  \n",
       "3                 0.53                         N                           2  \n",
       "4                 0.55                         Y                           4  "
      ]
     },
     "execution_count": 2,
     "metadata": {},
     "output_type": "execute_result"
    }
   ],
   "source": [
    "credit_risk = pd.read_csv(\"credit_risk_dataset.csv\")\n",
    "credit_risk.head()\n"
   ]
  },
  {
   "cell_type": "code",
   "execution_count": 3,
   "id": "65996e40",
   "metadata": {},
   "outputs": [],
   "source": [
    "credit_risk.rename(columns={'cb_person_default_on_file':'defaulter',\n",
    "                   'cb_person_cred_hist_length':'credit_hist_length (years)'},\n",
    "                  inplace=True)"
   ]
  },
  {
   "cell_type": "code",
   "execution_count": 4,
   "id": "69874a98",
   "metadata": {
    "scrolled": true
   },
   "outputs": [
    {
     "data": {
      "text/plain": [
       "person_age                       0\n",
       "person_income                    0\n",
       "person_home_ownership            0\n",
       "person_emp_length              895\n",
       "loan_intent                      0\n",
       "loan_grade                       0\n",
       "loan_amnt                        0\n",
       "loan_int_rate                 3116\n",
       "loan_status                      0\n",
       "loan_percent_income              0\n",
       "defaulter                        0\n",
       "credit_hist_length (years)       0\n",
       "dtype: int64"
      ]
     },
     "execution_count": 4,
     "metadata": {},
     "output_type": "execute_result"
    }
   ],
   "source": [
    "#checking null values in all the columns\n",
    "credit_risk.isna().sum()"
   ]
  },
  {
   "cell_type": "code",
   "execution_count": 2,
   "id": "e662cb67",
   "metadata": {},
   "outputs": [
    {
     "ename": "SyntaxError",
     "evalue": "incomplete input (2981925314.py, line 2)",
     "output_type": "error",
     "traceback": [
      "\u001b[1;36m  Input \u001b[1;32mIn [2]\u001b[1;36m\u001b[0m\n\u001b[1;33m    credit_risk.drop([\"person_emp_length\",\"loan_grade\",\"loan_percent_income\"],axis=1,inplace\u001b[0m\n\u001b[1;37m                                                                                            ^\u001b[0m\n\u001b[1;31mSyntaxError\u001b[0m\u001b[1;31m:\u001b[0m incomplete input\n"
     ]
    }
   ],
   "source": [
    "#Dropping unwanted columns\n",
    "credit_risk.drop([\"person_emp_length\",\"loan_grade\",\"loan_percent_income\"],axis=1,inplace"
   ]
  },
  {
   "cell_type": "code",
   "execution_count": 6,
   "id": "9d5d30ce",
   "metadata": {},
   "outputs": [
    {
     "data": {
      "text/plain": [
       "person_age                       0\n",
       "person_income                    0\n",
       "person_home_ownership            0\n",
       "loan_intent                      0\n",
       "loan_amnt                        0\n",
       "loan_int_rate                 3116\n",
       "loan_status                      0\n",
       "defaulter                        0\n",
       "credit_hist_length (years)       0\n",
       "dtype: int64"
      ]
     },
     "execution_count": 6,
     "metadata": {},
     "output_type": "execute_result"
    }
   ],
   "source": [
    "#Dropping the column with no lable\n",
    "credit_risk.dropna(subset=[\"defaulter\"],inplace=True)\n",
    "credit_risk.isna().sum()"
   ]
  },
  {
   "cell_type": "markdown",
   "id": "e8481183",
   "metadata": {},
   "source": [
    "## SPLIT THE DATA INTO FEATURES AND LABELS (X & Y)"
   ]
  },
  {
   "cell_type": "code",
   "execution_count": 7,
   "id": "ed5d1965",
   "metadata": {},
   "outputs": [],
   "source": [
    "X=credit_risk.drop(\"defaulter\",axis=1) #includes the whole df except the defaulter column\n",
    "y=credit_risk[\"defaulter\"]"
   ]
  },
  {
   "cell_type": "markdown",
   "id": "54e5d13a",
   "metadata": {},
   "source": [
    "## FILLING UP THE MISSING VALUES"
   ]
  },
  {
   "cell_type": "code",
   "execution_count": 8,
   "id": "54ef1c12",
   "metadata": {},
   "outputs": [],
   "source": [
    "#heatmap gives a representation of the null values present in the datasaet\n",
    "# sns.heatmap(credit_risk.isnull(),yticklabels=False,cbar=False,cmap='viridis');"
   ]
  },
  {
   "cell_type": "code",
   "execution_count": 9,
   "id": "c180a2f3",
   "metadata": {},
   "outputs": [
    {
     "data": {
      "text/plain": [
       "array([[22, 59000, 'RENT', ..., 1, 3, 16.02],\n",
       "       [21, 9600, 'OWN', ..., 0, 2, 11.14],\n",
       "       [25, 9600, 'MORTGAGE', ..., 1, 3, 12.87],\n",
       "       ...,\n",
       "       [65, 76000, 'RENT', ..., 1, 28, 10.99],\n",
       "       [56, 150000, 'MORTGAGE', ..., 0, 26, 11.48],\n",
       "       [66, 42000, 'RENT', ..., 0, 30, 9.99]], dtype=object)"
      ]
     },
     "execution_count": 9,
     "metadata": {},
     "output_type": "execute_result"
    }
   ],
   "source": [
    "from sklearn.impute import SimpleImputer\n",
    "from sklearn.compose import ColumnTransformer\n",
    "\n",
    "#Filling up the categorical value with \"missing\" & numerical value with mean\n",
    "cat_imputer = SimpleImputer(strategy=\"constant\",fill_value=\"missing\")\n",
    "num_imputer = SimpleImputer(strategy=\"mean\")\n",
    "#define column\n",
    "cat_features = [\"person_age\",\"person_income\",\"person_home_ownership\",\n",
    "                \"loan_intent\",\"loan_amnt\",\"loan_status\",\n",
    "                \"credit_hist_length (years)\"]\n",
    "num_features = [\"loan_int_rate\"]\n",
    "\n",
    "#Creating imputer to fill up the missing values\n",
    "imputer = ColumnTransformer([(\"cat_imputer\",cat_imputer,cat_features),\n",
    "                             (\"num_imputer\",num_imputer,num_features)])\n",
    "\n",
    "#Transfrom the data\n",
    "filled_X = imputer.fit_transform(X)\n",
    "filled_X"
   ]
  },
  {
   "cell_type": "code",
   "execution_count": 10,
   "id": "173267ff",
   "metadata": {},
   "outputs": [
    {
     "data": {
      "text/html": [
       "<div>\n",
       "<style scoped>\n",
       "    .dataframe tbody tr th:only-of-type {\n",
       "        vertical-align: middle;\n",
       "    }\n",
       "\n",
       "    .dataframe tbody tr th {\n",
       "        vertical-align: top;\n",
       "    }\n",
       "\n",
       "    .dataframe thead th {\n",
       "        text-align: right;\n",
       "    }\n",
       "</style>\n",
       "<table border=\"1\" class=\"dataframe\">\n",
       "  <thead>\n",
       "    <tr style=\"text-align: right;\">\n",
       "      <th></th>\n",
       "      <th>person_age</th>\n",
       "      <th>person_income</th>\n",
       "      <th>person_home_ownership</th>\n",
       "      <th>loan_intent</th>\n",
       "      <th>loan_amnt</th>\n",
       "      <th>loan_status</th>\n",
       "      <th>loan_int_rate</th>\n",
       "      <th>credit_hist_length(years)</th>\n",
       "    </tr>\n",
       "  </thead>\n",
       "  <tbody>\n",
       "    <tr>\n",
       "      <th>0</th>\n",
       "      <td>22</td>\n",
       "      <td>59000</td>\n",
       "      <td>RENT</td>\n",
       "      <td>PERSONAL</td>\n",
       "      <td>35000</td>\n",
       "      <td>1</td>\n",
       "      <td>3</td>\n",
       "      <td>16.02</td>\n",
       "    </tr>\n",
       "    <tr>\n",
       "      <th>1</th>\n",
       "      <td>21</td>\n",
       "      <td>9600</td>\n",
       "      <td>OWN</td>\n",
       "      <td>EDUCATION</td>\n",
       "      <td>1000</td>\n",
       "      <td>0</td>\n",
       "      <td>2</td>\n",
       "      <td>11.14</td>\n",
       "    </tr>\n",
       "    <tr>\n",
       "      <th>2</th>\n",
       "      <td>25</td>\n",
       "      <td>9600</td>\n",
       "      <td>MORTGAGE</td>\n",
       "      <td>MEDICAL</td>\n",
       "      <td>5500</td>\n",
       "      <td>1</td>\n",
       "      <td>3</td>\n",
       "      <td>12.87</td>\n",
       "    </tr>\n",
       "    <tr>\n",
       "      <th>3</th>\n",
       "      <td>23</td>\n",
       "      <td>65500</td>\n",
       "      <td>RENT</td>\n",
       "      <td>MEDICAL</td>\n",
       "      <td>35000</td>\n",
       "      <td>1</td>\n",
       "      <td>2</td>\n",
       "      <td>15.23</td>\n",
       "    </tr>\n",
       "    <tr>\n",
       "      <th>4</th>\n",
       "      <td>24</td>\n",
       "      <td>54400</td>\n",
       "      <td>RENT</td>\n",
       "      <td>MEDICAL</td>\n",
       "      <td>35000</td>\n",
       "      <td>1</td>\n",
       "      <td>4</td>\n",
       "      <td>14.27</td>\n",
       "    </tr>\n",
       "  </tbody>\n",
       "</table>\n",
       "</div>"
      ],
      "text/plain": [
       "  person_age person_income person_home_ownership loan_intent loan_amnt  \\\n",
       "0         22         59000                  RENT    PERSONAL     35000   \n",
       "1         21          9600                   OWN   EDUCATION      1000   \n",
       "2         25          9600              MORTGAGE     MEDICAL      5500   \n",
       "3         23         65500                  RENT     MEDICAL     35000   \n",
       "4         24         54400                  RENT     MEDICAL     35000   \n",
       "\n",
       "  loan_status loan_int_rate credit_hist_length(years)  \n",
       "0           1             3                     16.02  \n",
       "1           0             2                     11.14  \n",
       "2           1             3                     12.87  \n",
       "3           1             2                     15.23  \n",
       "4           1             4                     14.27  "
      ]
     },
     "execution_count": 10,
     "metadata": {},
     "output_type": "execute_result"
    }
   ],
   "source": [
    "credit_risk_filled = pd.DataFrame(filled_X,\n",
    "                                 columns=[\"person_age\",\"person_income\",\"person_home_ownership\",\n",
    "                                          \"loan_intent\",\"loan_amnt\",\"loan_status\",\"loan_int_rate\",\n",
    "                                          \"credit_hist_length(years)\",])\n",
    "credit_risk_filled.head()"
   ]
  },
  {
   "cell_type": "code",
   "execution_count": 11,
   "id": "90271781",
   "metadata": {},
   "outputs": [
    {
     "data": {
      "text/plain": [
       "person_age                   0\n",
       "person_income                0\n",
       "person_home_ownership        0\n",
       "loan_intent                  0\n",
       "loan_amnt                    0\n",
       "loan_status                  0\n",
       "loan_int_rate                0\n",
       "credit_hist_length(years)    0\n",
       "dtype: int64"
      ]
     },
     "execution_count": 11,
     "metadata": {},
     "output_type": "execute_result"
    }
   ],
   "source": [
    "credit_risk_filled.isna().sum()"
   ]
  },
  {
   "cell_type": "markdown",
   "id": "69352c66",
   "metadata": {},
   "source": [
    "## CONVERTING THE STRING INTO NUMBERS"
   ]
  },
  {
   "cell_type": "code",
   "execution_count": 13,
   "id": "27f894e4",
   "metadata": {},
   "outputs": [
    {
     "data": {
      "text/plain": [
       "person_age                   object\n",
       "person_income                object\n",
       "person_home_ownership        object\n",
       "loan_intent                  object\n",
       "loan_amnt                    object\n",
       "loan_status                  object\n",
       "loan_int_rate                object\n",
       "credit_hist_length(years)    object\n",
       "dtype: object"
      ]
     },
     "execution_count": 13,
     "metadata": {},
     "output_type": "execute_result"
    }
   ],
   "source": [
    "credit_risk_filled.dtypes"
   ]
  },
  {
   "cell_type": "code",
   "execution_count": 14,
   "id": "0b301880",
   "metadata": {},
   "outputs": [
    {
     "data": {
      "text/plain": [
       "<32581x5496 sparse matrix of type '<class 'numpy.float64'>'\n",
       "\twith 260648 stored elements in Compressed Sparse Row format>"
      ]
     },
     "execution_count": 14,
     "metadata": {},
     "output_type": "execute_result"
    }
   ],
   "source": [
    "from sklearn.preprocessing import OneHotEncoder\n",
    "from sklearn.compose import ColumnTransformer\n",
    "\n",
    "categorical_features = [\"person_age\",\"person_income\",\"person_home_ownership\",\n",
    "                        \"loan_intent\",\"loan_amnt\",\"loan_status\",\"loan_int_rate\",\n",
    "                        \"credit_hist_length(years)\"]\n",
    "one_hot = OneHotEncoder()\n",
    "transfromer = ColumnTransformer([(\"one_hot\",\n",
    "                                   one_hot,\n",
    "                                   categorical_features)],\n",
    "                                remainder ='passthrough')\n",
    "transformed_X = transfromer.fit_transform(credit_risk_filled)\n",
    "transformed_X"
   ]
  }
 ],
 "metadata": {
  "kernelspec": {
   "display_name": "Python 3 (ipykernel)",
   "language": "python",
   "name": "python3"
  },
  "language_info": {
   "codemirror_mode": {
    "name": "ipython",
    "version": 3
   },
   "file_extension": ".py",
   "mimetype": "text/x-python",
   "name": "python",
   "nbconvert_exporter": "python",
   "pygments_lexer": "ipython3",
   "version": "3.10.4"
  }
 },
 "nbformat": 4,
 "nbformat_minor": 5
}
